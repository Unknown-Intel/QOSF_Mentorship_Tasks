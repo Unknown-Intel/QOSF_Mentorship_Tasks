{
 "cells": [
  {
   "cell_type": "code",
   "execution_count": 1,
   "id": "ee829d72",
   "metadata": {},
   "outputs": [],
   "source": [
    "import numpy as np\n",
    "import torch\n",
    "from torch.nn.functional import relu\n",
    "\n",
    "from sklearn.svm import SVC\n",
    "from sklearn.datasets import load_iris\n",
    "from sklearn.preprocessing import StandardScaler, normalize\n",
    "from sklearn.model_selection import train_test_split\n",
    "from sklearn.metrics import accuracy_score\n",
    "from sklearn.decomposition import PCA\n",
    "import pennylane as qml\n",
    "from pennylane.templates import AngleEmbedding, StronglyEntanglingLayers\n",
    "from pennylane.operation import Tensor\n",
    "import pandas as pd\n",
    "import matplotlib.pyplot as plt\n",
    "import tensorflow as tf\n",
    "\n",
    "np.random.seed(0)"
   ]
  },
  {
   "cell_type": "code",
   "execution_count": 2,
   "id": "28621786",
   "metadata": {},
   "outputs": [
    {
     "name": "stdout",
     "output_type": "stream",
     "text": [
      "[[2.78926e+03 1.00000e+03 1.00000e+01 2.00000e+01]\n",
      " [4.04001e+03 1.00000e+06 1.00000e+00 1.00000e+00]\n",
      " [2.93120e+03 1.00000e+04 1.00000e+04 4.00000e+01]\n",
      " ...\n",
      " [4.18281e+03 1.00000e+00 1.00000e+00 6.50000e+01]\n",
      " [3.11375e+03 1.00000e+04 1.00000e+02 1.00000e+00]\n",
      " [4.56757e+03 1.00000e+04 1.00000e+05 9.00000e+01]] [-1.  1.  1.  1. -1. -1.  1. -1.  1. -1.  1. -1. -1. -1. -1. -1.  1. -1.\n",
      " -1. -1.  1.  1.  1.  1. -1.  1. -1. -1.  1. -1. -1. -1.  1.  1. -1. -1.\n",
      " -1.  1. -1.  1.  1. -1.  1. -1. -1. -1.  1. -1.  1.  1. -1.  1. -1.  1.\n",
      " -1. -1.  1. -1. -1.  1. -1.  1.  1.  1. -1. -1. -1.  1. -1.  1. -1.  1.\n",
      " -1. -1.  1. -1. -1.  1.  1.  1.  1. -1.  1.  1. -1. -1. -1. -1. -1.  1.\n",
      "  1.  1. -1. -1. -1. -1.  1. -1.  1.  1. -1.  1.  1.  1.  1.  1. -1.  1.\n",
      "  1. -1.  1. -1. -1.  1.  1. -1. -1. -1. -1. -1. -1.  1. -1. -1.  1.  1.\n",
      " -1.  1. -1. -1. -1.  1. -1. -1.  1.  1. -1.  1. -1.  1.  1. -1.  1. -1.\n",
      " -1.  1. -1.  1.  1.  1.  1. -1.  1.  1. -1.  1. -1. -1.  1.  1.  1. -1.\n",
      "  1. -1.  1.  1. -1. -1. -1. -1. -1.  1.  1.  1. -1.  1. -1. -1.  1. -1.\n",
      "  1.  1.  1. -1.  1. -1. -1.  1.  1.  1.  1. -1. -1.  1.  1. -1.  1. -1.\n",
      " -1. -1.  1. -1. -1.  1.  1.  1.  1. -1. -1. -1. -1. -1. -1. -1. -1.  1.\n",
      " -1.  1.  1. -1. -1.  1. -1.  1. -1. -1.  1. -1.  1. -1. -1. -1.  1. -1.\n",
      "  1. -1.  1.  1. -1. -1. -1. -1. -1. -1. -1. -1. -1.  1. -1.  1. -1.  1.\n",
      " -1. -1.  1. -1.  1.  1.  1.  1.  1.  1. -1. -1.  1.  1. -1. -1. -1. -1.\n",
      "  1. -1.  1. -1.  1.  1.  1.  1.  1. -1.  1.  1. -1.  1. -1. -1. -1.  1.\n",
      "  1. -1.  1.  1. -1.  1. -1.  1.  1. -1.  1.  1.]\n"
     ]
    }
   ],
   "source": [
    "# Load Training Label\n",
    "df = pd.read_csv (r'./mock_train_set.csv')\n",
    "train_data = df.iloc[:,[i for i in range(4)]].to_numpy()\n",
    "train_labels = df.iloc[:, 4].to_numpy()\n",
    "train_labels = 2 * (train_labels - 0.5)\n",
    "print(train_data, train_labels)"
   ]
  },
  {
   "cell_type": "code",
   "execution_count": 3,
   "id": "a3c43d7f",
   "metadata": {},
   "outputs": [
    {
     "name": "stdout",
     "output_type": "stream",
     "text": [
      "Fitting Data....\n",
      "Variance Ratio =  [0.61696866 0.36260394 0.01883049]\n",
      "Variance Ratio Cumulative =  0.9984030880210738\n"
     ]
    }
   ],
   "source": [
    "# PCA on the dataset k > 2 \n",
    "k=3\n",
    "pca = PCA(n_components=k)\n",
    "train_data = normalize(train_data)\n",
    "print(\"Fitting Data....\")\n",
    "pca.fit(train_data)\n",
    "print(\"Variance Ratio = \", pca.explained_variance_ratio_)\n",
    "print(\"Variance Ratio Cumulative = \", sum(pca.explained_variance_ratio_))\n",
    "X = pca.transform(train_data)"
   ]
  },
  {
   "cell_type": "code",
   "execution_count": 4,
   "id": "c5e5ed70",
   "metadata": {},
   "outputs": [
    {
     "data": {
      "image/png": "[encoded data removed]",
      "text/plain": [
       "<Figure size 432x288 with 1 Axes>"
      ]
     },
     "metadata": {
      "needs_background": "light"
     },
     "output_type": "display_data"
    }
   ],
   "source": [
    "scaler = StandardScaler()\n",
    "scaler.fit(X)\n",
    "X = scaler.transform(X)\n",
    "plt.scatter(X[:,1], X[:,2],c=train_labels)\n",
    "plt.show()"
   ]
  },
  {
   "cell_type": "code",
   "execution_count": 5,
   "id": "fcfda7fa",
   "metadata": {},
   "outputs": [
    {
     "data": {
      "text/plain": [
       "3"
      ]
     },
     "execution_count": 5,
     "metadata": {},
     "output_type": "execute_result"
    }
   ],
   "source": [
    "n_qubits = len(X[0])\n",
    "n_qubits"
   ]
  },
  {
   "cell_type": "code",
   "execution_count": 6,
   "id": "e58f5978",
   "metadata": {},
   "outputs": [],
   "source": [
    "dev_kernel = qml.device(\"default.qubit\", wires=n_qubits)\n",
    "\n",
    "projector = np.zeros((2**n_qubits, 2**n_qubits))\n",
    "projector[0, 0] = 1\n",
    "\n",
    "@qml.qnode(dev_kernel)\n",
    "def kernel(x1, x2):\n",
    "    \"\"\"The quantum kernel.\"\"\"\n",
    "    AngleEmbedding(x1, wires=range(n_qubits))\n",
    "    qml.adjoint(AngleEmbedding)(x2, wires=range(n_qubits))\n",
    "    return qml.expval(qml.Hermitian(projector, wires=range(n_qubits)))"
   ]
  },
  {
   "cell_type": "code",
   "execution_count": 7,
   "id": "eee2052a",
   "metadata": {},
   "outputs": [
    {
     "data": {
      "text/plain": [
       "tensor(1., requires_grad=True)"
      ]
     },
     "execution_count": 7,
     "metadata": {},
     "output_type": "execute_result"
    }
   ],
   "source": [
    "kernel(X[0], X[0])"
   ]
  },
  {
   "cell_type": "code",
   "execution_count": 8,
   "id": "c338acdd",
   "metadata": {},
   "outputs": [],
   "source": [
    "def kernel_matrix(A, B):\n",
    "    \"\"\"Compute the matrix whose entries are the kernel\n",
    "       evaluated on pairwise data from sets A and B.\"\"\"\n",
    "    return np.array([[kernel(a, b) for b in B] for a in A])"
   ]
  },
  {
   "cell_type": "code",
   "execution_count": 9,
   "id": "e08a59e6",
   "metadata": {},
   "outputs": [],
   "source": [
    "svm = SVC(kernel=kernel_matrix).fit(X, train_labels)"
   ]
  },
  {
   "cell_type": "code",
   "execution_count": 10,
   "id": "cc98bc13",
   "metadata": {},
   "outputs": [
    {
     "name": "stdout",
     "output_type": "stream",
     "text": [
      "[[2.98855e+03 1.00000e+04 1.00000e+04 7.50000e+01]\n",
      " [3.41380e+03 1.00000e+00 1.00000e+02 9.00000e+01]\n",
      " [3.89152e+03 1.00000e+00 1.00000e+00 5.00000e+00]\n",
      " [4.51499e+03 1.00000e+04 1.00000e+06 2.50000e+01]\n",
      " [7.52290e+02 1.00000e+01 1.00000e+01 9.00000e+01]\n",
      " [1.40413e+03 1.00000e+04 1.00000e+03 5.00000e+00]\n",
      " [3.39065e+03 1.00000e+06 1.00000e+04 5.00000e+00]\n",
      " [2.62098e+03 1.00000e+00 1.00000e+01 7.50000e+01]\n",
      " [2.05960e+02 1.00000e+01 1.00000e+02 1.50000e+01]\n",
      " [1.49575e+03 1.00000e+04 1.00000e+04 8.00000e+01]\n",
      " [2.41590e+02 1.00000e+04 1.00000e+05 1.00000e+01]\n",
      " [4.01638e+03 1.00000e+06 1.00000e+03 4.50000e+01]\n",
      " [7.21820e+02 1.00000e+00 1.00000e+00 3.50000e+01]\n",
      " [5.76980e+02 1.00000e+00 1.00000e+02 4.00000e+01]\n",
      " [4.85430e+03 1.00000e+03 1.00000e+01 7.00000e+01]\n",
      " [4.82122e+03 1.00000e+03 1.00000e+06 8.50000e+01]\n",
      " [2.39061e+03 1.00000e+06 1.00000e+06 6.00000e+01]\n",
      " [3.75672e+03 1.00000e+06 1.00000e+05 6.50000e+01]\n",
      " [4.70472e+03 1.00000e+03 1.00000e+01 5.00000e+00]\n",
      " [3.75746e+03 1.00000e+02 1.00000e+00 3.00000e+01]\n",
      " [4.54620e+03 1.00000e+06 1.00000e+04 5.00000e+01]\n",
      " [2.70438e+03 1.00000e+04 1.00000e+03 7.50000e+01]\n",
      " [2.23712e+03 1.00000e+06 1.00000e+05 4.00000e+01]\n",
      " [9.26590e+02 1.00000e+04 1.00000e+06 4.50000e+01]\n",
      " [9.99650e+02 1.00000e+00 1.00000e+02 6.50000e+01]\n",
      " [3.91707e+03 1.00000e+00 1.00000e+01 1.00000e+01]\n",
      " [3.44056e+03 1.00000e+00 1.00000e+00 4.00000e+01]\n",
      " [3.97530e+03 1.00000e+06 1.00000e+06 5.50000e+01]\n",
      " [1.00924e+03 1.00000e+00 1.00000e+02 2.50000e+01]\n",
      " [1.99213e+03 1.00000e+04 1.00000e+04 3.50000e+01]\n",
      " [4.83762e+03 1.00000e+02 1.00000e+01 6.50000e+01]\n",
      " [3.20952e+03 1.00000e+04 1.00000e+04 7.50000e+01]\n",
      " [1.15274e+03 1.00000e+06 1.00000e+03 4.00000e+01]\n",
      " [3.63618e+03 1.00000e+03 1.00000e+01 9.00000e+01]\n",
      " [2.51871e+03 1.00000e+06 1.00000e+04 8.50000e+01]\n",
      " [2.03516e+03 1.00000e+06 1.00000e+05 5.00000e+01]\n",
      " [3.27261e+03 1.00000e+01 1.00000e+00 2.50000e+01]\n",
      " [4.18900e+01 1.00000e+03 1.00000e+03 5.00000e+00]\n",
      " [4.69895e+03 1.00000e+01 1.00000e+01 7.50000e+01]\n",
      " [3.31969e+03 1.00000e+00 1.00000e+00 1.00000e+01]\n",
      " [2.45985e+03 1.00000e+06 1.00000e+03 5.00000e+01]\n",
      " [2.20724e+03 1.00000e+00 1.00000e+00 4.50000e+01]\n",
      " [4.34720e+03 1.00000e+03 1.00000e+01 4.50000e+01]\n",
      " [4.26937e+03 1.00000e+06 1.00000e+03 1.00000e+01]\n",
      " [1.85445e+03 1.00000e+00 1.00000e+02 9.00000e+01]\n",
      " [2.28205e+03 1.00000e+04 1.00000e+03 6.00000e+01]\n",
      " [2.00710e+03 1.00000e+03 1.00000e+06 6.50000e+01]\n",
      " [3.81016e+03 1.00000e+06 1.00000e+06 5.00000e+00]\n",
      " [2.66118e+03 1.00000e+04 1.00000e+06 5.00000e+01]\n",
      " [3.51917e+03 1.00000e+00 1.00000e+00 3.00000e+01]\n",
      " [4.11659e+03 1.00000e+02 1.00000e+01 7.50000e+01]\n",
      " [4.81743e+03 1.00000e+00 1.00000e+02 6.50000e+01]\n",
      " [3.94702e+03 1.00000e+03 1.00000e+02 5.50000e+01]\n",
      " [4.25617e+03 1.00000e+00 1.00000e+00 4.50000e+01]\n",
      " [2.32532e+03 1.00000e+06 1.00000e+05 2.00000e+01]\n",
      " [3.17100e+01 1.00000e+06 1.00000e+03 7.50000e+01]\n",
      " [1.63836e+03 1.00000e+00 1.00000e+01 9.00000e+01]\n",
      " [1.31830e+02 1.00000e+06 1.00000e+03 8.00000e+01]\n",
      " [9.02940e+02 1.00000e+04 1.00000e+03 7.00000e+01]\n",
      " [7.52650e+02 1.00000e+00 1.00000e+02 6.00000e+01]\n",
      " [4.51900e+01 1.00000e+04 1.00000e+03 5.50000e+01]\n",
      " [4.11973e+03 1.00000e+00 1.00000e+01 3.00000e+01]\n",
      " [1.73601e+03 1.00000e+00 1.00000e+02 5.00000e+01]\n",
      " [4.03679e+03 1.00000e+06 1.00000e+06 1.50000e+01]\n",
      " [3.46861e+03 1.00000e+04 1.00000e+06 4.00000e+01]\n",
      " [2.52757e+03 1.00000e+04 1.00000e+03 3.00000e+01]\n",
      " [4.77256e+03 1.00000e+06 1.00000e+05 6.00000e+01]\n",
      " [2.46935e+03 1.00000e+04 1.00000e+05 6.00000e+01]\n",
      " [4.69893e+03 1.00000e+00 1.00000e+01 5.00000e+01]\n",
      " [4.47220e+02 1.00000e+06 1.00000e+04 7.00000e+01]\n",
      " [3.72794e+03 1.00000e+00 1.00000e+01 7.00000e+01]\n",
      " [2.21050e+03 1.00000e+06 1.00000e+06 5.00000e+00]\n",
      " [2.24081e+03 1.00000e+03 1.00000e+06 5.00000e+00]\n",
      " [4.55585e+03 1.00000e+02 1.00000e+02 4.50000e+01]\n",
      " [3.23958e+03 1.00000e+00 1.00000e+02 8.50000e+01]\n",
      " [3.42972e+03 1.00000e+00 1.00000e+02 8.00000e+01]\n",
      " [2.50783e+03 1.00000e+06 1.00000e+04 4.50000e+01]\n",
      " [3.36004e+03 1.00000e+01 1.00000e+00 5.00000e+01]\n",
      " [4.16172e+03 1.00000e+06 1.00000e+06 5.00000e+01]\n",
      " [1.53463e+03 1.00000e+00 1.00000e+01 3.00000e+01]\n",
      " [1.64620e+03 1.00000e+06 1.00000e+06 3.50000e+01]\n",
      " [2.33391e+03 1.00000e+04 1.00000e+06 7.00000e+01]\n",
      " [2.11567e+03 1.00000e+02 1.00000e+01 8.00000e+01]\n",
      " [1.60697e+03 1.00000e+06 1.00000e+05 2.50000e+01]\n",
      " [1.67560e+02 1.00000e+00 1.00000e+01 8.50000e+01]\n",
      " [3.64824e+03 1.00000e+00 1.00000e+02 1.00000e+00]\n",
      " [1.90790e+02 1.00000e+06 1.00000e+03 9.00000e+01]\n",
      " [1.92945e+03 1.00000e+00 1.00000e+01 6.50000e+01]\n",
      " [1.00331e+03 1.00000e+00 1.00000e+00 8.00000e+01]\n",
      " [1.01440e+03 1.00000e+06 1.00000e+06 1.50000e+01]\n",
      " [4.16923e+03 1.00000e+06 1.00000e+05 6.50000e+01]\n",
      " [3.29637e+03 1.00000e+00 1.00000e+01 3.50000e+01]\n",
      " [1.70014e+03 1.00000e+06 1.00000e+04 2.00000e+01]\n",
      " [4.66384e+03 1.00000e+06 1.00000e+03 2.00000e+01]\n",
      " [2.53439e+03 1.00000e+06 1.00000e+03 7.50000e+01]\n",
      " [1.56194e+03 1.00000e+00 1.00000e+01 6.50000e+01]\n",
      " [4.15129e+03 1.00000e+00 1.00000e+00 5.00000e+00]\n",
      " [3.30718e+03 1.00000e+03 1.00000e+00 2.50000e+01]\n",
      " [3.73480e+02 1.00000e+06 1.00000e+03 9.00000e+01]\n",
      " [2.29194e+03 1.00000e+03 1.00000e+06 5.00000e+00]\n",
      " [5.24450e+02 1.00000e+01 1.00000e+01 4.50000e+01]\n",
      " [3.21138e+03 1.00000e+02 1.00000e+02 1.00000e+00]\n",
      " [4.46244e+03 1.00000e+01 1.00000e+01 8.50000e+01]\n",
      " [4.91334e+03 1.00000e+06 1.00000e+03 4.50000e+01]\n",
      " [1.47198e+03 1.00000e+06 1.00000e+06 1.00000e+00]\n",
      " [2.42191e+03 1.00000e+03 1.00000e+06 9.00000e+01]\n",
      " [2.60017e+03 1.00000e+00 1.00000e+01 6.00000e+01]\n",
      " [4.41733e+03 1.00000e+06 1.00000e+06 5.00000e+01]\n",
      " [1.61560e+02 1.00000e+04 1.00000e+05 4.50000e+01]\n",
      " [4.00330e+03 1.00000e+06 1.00000e+06 8.00000e+01]\n",
      " [4.34916e+03 1.00000e+00 1.00000e+00 5.00000e+00]\n",
      " [3.73280e+02 1.00000e+06 1.00000e+04 5.00000e+01]\n",
      " [4.68626e+03 1.00000e+01 1.00000e+01 3.50000e+01]\n",
      " [1.70038e+03 1.00000e+00 1.00000e+05 7.00000e+01]\n",
      " [2.52006e+03 1.00000e+00 1.00000e+01 1.00000e+00]\n",
      " [3.15594e+03 1.00000e+04 1.00000e+04 3.50000e+01]\n",
      " [2.79504e+03 1.00000e+00 1.00000e+01 4.50000e+01]\n",
      " [3.70248e+03 1.00000e+00 1.00000e+00 2.00000e+01]\n",
      " [2.79057e+03 1.00000e+00 1.00000e+00 4.00000e+01]\n",
      " [1.84821e+03 1.00000e+02 1.00000e+02 9.00000e+01]] [ 1. -1. -1.  1. -1.  1.  1. -1. -1.  1.  1.  1. -1. -1. -1.  1.  1.  1.\n",
      " -1. -1.  1.  1.  1.  1. -1. -1. -1.  1. -1.  1. -1.  1.  1. -1.  1.  1.\n",
      " -1.  1. -1. -1.  1. -1. -1.  1. -1.  1.  1.  1.  1. -1. -1. -1. -1. -1.\n",
      "  1.  1. -1.  1.  1. -1.  1. -1. -1.  1.  1.  1.  1.  1. -1.  1. -1.  1.\n",
      "  1. -1. -1. -1.  1. -1.  1. -1.  1.  1. -1.  1. -1. -1.  1. -1. -1.  1.\n",
      "  1. -1.  1.  1.  1. -1. -1. -1.  1.  1. -1. -1. -1.  1.  1.  1. -1.  1.\n",
      "  1.  1. -1.  1. -1.  1. -1.  1. -1. -1. -1. -1.]\n"
     ]
    }
   ],
   "source": [
    "# Load Test data\n",
    "df = pd.read_csv (r'./mock_test_set.csv')\n",
    "test_data = df.iloc[:,[i for i in range(4)]].to_numpy()\n",
    "test_labels = df.iloc[:, 4].to_numpy()\n",
    "test_labels = 2 * (test_labels - 0.5)\n",
    "print(test_data , test_labels)"
   ]
  },
  {
   "cell_type": "code",
   "execution_count": 11,
   "id": "6a474fc7",
   "metadata": {},
   "outputs": [
    {
     "name": "stdout",
     "output_type": "stream",
     "text": [
      "Fitting Data....\n",
      "Variance Ratio =  [0.70445591 0.279145   0.01313534]\n",
      "Variance Ratio Cumulative =  0.996736253775483\n"
     ]
    }
   ],
   "source": [
    "pca_test = PCA(n_components=k)\n",
    "test_data = normalize(test_data)\n",
    "print(\"Fitting Data....\")\n",
    "pca_test.fit(test_data)\n",
    "print(\"Variance Ratio = \", pca_test.explained_variance_ratio_)\n",
    "print(\"Variance Ratio Cumulative = \", sum(pca_test.explained_variance_ratio_))\n",
    "X_test = pca_test.transform(test_data)\n",
    "test_scaler = StandardScaler()\n",
    "test_scaler.fit(X_test)\n",
    "X_test = test_scaler.transform(X_test)"
   ]
  },
  {
   "cell_type": "code",
   "execution_count": 12,
   "id": "beaf38d3",
   "metadata": {},
   "outputs": [
    {
     "name": "stdout",
     "output_type": "stream",
     "text": [
      "[ 1.  1.  1.  1.  1. -1. -1.  1.  1.  1.  1. -1.  1.  1.  1.  1. -1. -1.\n",
      "  1.  1. -1. -1. -1.  1.  1.  1.  1. -1.  1.  1.  1.  1. -1.  1. -1. -1.\n",
      "  1. -1.  1.  1. -1.  1.  1. -1.  1. -1.  1. -1.  1.  1.  1.  1.  1.  1.\n",
      " -1. -1.  1. -1. -1.  1. -1.  1.  1. -1.  1. -1. -1.  1.  1. -1.  1. -1.\n",
      "  1.  1.  1.  1. -1.  1. -1.  1. -1.  1.  1. -1.  1.  1. -1.  1.  1. -1.\n",
      " -1.  1. -1. -1. -1.  1.  1.  1. -1.  1.  1.  1.  1. -1. -1.  1.  1. -1.\n",
      "  1. -1.  1. -1.  1.  1.  1.  1.  1.  1.  1.  1.]\n"
     ]
    },
    {
     "data": {
      "text/plain": [
       "0.15833333333333333"
      ]
     },
     "execution_count": 12,
     "metadata": {},
     "output_type": "execute_result"
    }
   ],
   "source": [
    "predictions = svm.predict(X_test)\n",
    "print(predictions)\n",
    "accuracy_score(predictions, test_labels)"
   ]
  },
  {
   "cell_type": "code",
   "execution_count": 13,
   "id": "4fc108bb",
   "metadata": {},
   "outputs": [
    {
     "name": "stdout",
     "output_type": "stream",
     "text": [
      "[ 1. -1. -1.  1. -1.  1.  1. -1. -1.  1.  1.  1. -1. -1. -1.  1.  1.  1.\n",
      " -1. -1.  1.  1.  1.  1. -1. -1. -1.  1. -1.  1. -1.  1.  1. -1.  1.  1.\n",
      " -1.  1. -1. -1.  1. -1. -1.  1. -1.  1.  1.  1.  1. -1. -1. -1. -1. -1.\n",
      "  1.  1. -1.  1.  1. -1.  1. -1. -1.  1.  1.  1.  1.  1. -1.  1. -1.  1.\n",
      "  1. -1. -1. -1.  1. -1.  1. -1.  1.  1. -1.  1. -1. -1.  1. -1. -1.  1.\n",
      "  1. -1.  1.  1.  1. -1. -1. -1.  1.  1. -1. -1. -1.  1.  1.  1. -1.  1.\n",
      "  1.  1. -1.  1. -1.  1. -1.  1. -1. -1. -1. -1.]\n"
     ]
    }
   ],
   "source": [
    "print(test_labels)"
   ]
  },
  {
   "cell_type": "code",
   "execution_count": null,
   "id": "2a5b445b",
   "metadata": {},
   "outputs": [],
   "source": []
  }
 ],
 "metadata": {
  "kernelspec": {
   "display_name": "Python 3 (ipykernel)",
   "language": "python",
   "name": "python3"
  },
  "language_info": {
   "codemirror_mode": {
    "name": "ipython",
    "version": 3
   },
   "file_extension": ".py",
   "mimetype": "text/x-python",
   "name": "python",
   "nbconvert_exporter": "python",
   "pygments_lexer": "ipython3",
   "version": "3.9.7"
  }
 },
 "nbformat": 4,
 "nbformat_minor": 5
}
